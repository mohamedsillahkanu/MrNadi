{
  "cells": [
    {
      "cell_type": "markdown",
      "metadata": {
        "id": "qGtAuKaosqUJ"
      },
      "source": [
        "##Question 1##\n",
        "A total of 60,000 32x32 color images in 10 different classes—6,000 images per class—make up the CIFAR-10 dataset. The categories are: truck, ship, frog, horse, bird, cat, deer, automobile, airplane, and automobile.\n",
        "\n",
        " The Visual Geometry Group at the University of Oxford created the VGG, a traditional convolutional neural network design. It became well-known for its ease of use and efficiency in image categorization jobs. Convolutional and pooling layers are interspersed with fully linked layers to create the VGG. There are other versions of it, including VGG16 and VGG19, which have different numbers of layers.\n",
        "\n",
        "Here's an example code snippet to implement VGG on the CIFAR-10 dataset using the Keras deep learning library in Python:"
      ]
    },
    {
      "cell_type": "code",
      "execution_count": null,
      "metadata": {
        "colab": {
          "base_uri": "https://localhost:8080/"
        },
        "id": "mdHKrwU_BDnN",
        "outputId": "2b56dfa1-2328-4177-8dcb-2d10a8ce0471"
      },
      "outputs": [
        {
          "output_type": "stream",
          "name": "stdout",
          "text": [
            "Requirement already satisfied: h5py in /usr/local/lib/python3.10/dist-packages (3.9.0)\n",
            "Requirement already satisfied: pyyaml in /usr/local/lib/python3.10/dist-packages (6.0.1)\n",
            "Requirement already satisfied: numpy>=1.17.3 in /usr/local/lib/python3.10/dist-packages (from h5py) (1.23.5)\n"
          ]
        }
      ],
      "source": [
        "!pip install h5py pyyaml"
      ]
    },
    {
      "cell_type": "code",
      "execution_count": null,
      "metadata": {
        "id": "4Ge59GMnBMJX"
      },
      "outputs": [],
      "source": [
        "from tensorflow import keras\n",
        "from tensorflow.keras.datasets import cifar10\n",
        "from tensorflow.keras.models import Sequential\n",
        "from tensorflow.keras.layers import Conv2D, MaxPooling2D, Flatten, Dense\n",
        "import os\n",
        "import tensorflow as tf"
      ]
    },
    {
      "cell_type": "code",
      "execution_count": null,
      "metadata": {
        "colab": {
          "base_uri": "https://localhost:8080/"
        },
        "id": "p1bn6GPFBq_B",
        "outputId": "36459f8e-68d2-44b9-846f-6769decb0478"
      },
      "outputs": [
        {
          "output_type": "stream",
          "name": "stdout",
          "text": [
            "Downloading data from https://www.cs.toronto.edu/~kriz/cifar-10-python.tar.gz\n",
            "170498071/170498071 [==============================] - 2s 0us/step\n"
          ]
        }
      ],
      "source": [
        "# Load the CIFAR-10 dataset\n",
        "(x_train, y_train), (x_test, y_test) = cifar10.load_data()"
      ]
    },
    {
      "cell_type": "code",
      "execution_count": null,
      "metadata": {
        "id": "L1AIXRM4B0FO"
      },
      "outputs": [],
      "source": [
        "# Normalize pixel values between 0 and 1\n",
        "x_train = x_train.astype('float32') / 255\n",
        "x_test = x_test.astype('float32') / 255"
      ]
    },
    {
      "cell_type": "code",
      "execution_count": null,
      "metadata": {
        "id": "pYhmCjQoB__r"
      },
      "outputs": [],
      "source": [
        "# Convert class labels to one-hot encoded vectors\n",
        "num_classes = 10\n",
        "y_train = keras.utils.to_categorical(y_train, num_classes)\n",
        "y_test = keras.utils.to_categorical(y_test, num_classes)"
      ]
    },
    {
      "cell_type": "code",
      "execution_count": null,
      "metadata": {
        "id": "dZ7cteYqCHYl"
      },
      "outputs": [],
      "source": [
        "# Build the VGG model\n",
        "model = Sequential()"
      ]
    },
    {
      "cell_type": "code",
      "execution_count": null,
      "metadata": {
        "id": "fZxHTZ8cCNE5"
      },
      "outputs": [],
      "source": [
        "# Block 1\n",
        "model.add(Conv2D(64, (3, 3), activation='relu', padding='same', input_shape=(32, 32, 3)))\n",
        "model.add(Conv2D(64, (3, 3), activation='relu', padding='same'))\n",
        "model.add(MaxPooling2D((2, 2), strides=(2, 2)))\n",
        "\n",
        "# Block 2\n",
        "model.add(Conv2D(128, (3, 3), activation='relu', padding='same'))\n",
        "model.add(Conv2D(128, (3, 3), activation='relu', padding='same'))\n",
        "model.add(MaxPooling2D((2, 2), strides=(2, 2)))\n",
        "\n",
        "# Block 3\n",
        "model.add(Conv2D(256, (3, 3), activation='relu', padding='same'))\n",
        "model.add(Conv2D(256, (3, 3), activation='relu', padding='same'))\n",
        "model.add(Conv2D(256, (3, 3), activation='relu', padding='same'))\n",
        "model.add(MaxPooling2D((2, 2), strides=(2, 2)))\n",
        "\n",
        "# Block 4\n",
        "model.add(Conv2D(512, (3, 3), activation='relu', padding='same'))\n",
        "model.add(Conv2D(512, (3, 3), activation='relu', padding='same'))\n",
        "model.add(Conv2D(512, (3, 3), activation='relu', padding='same'))\n",
        "model.add(MaxPooling2D((2, 2), strides=(2, 2)))\n",
        "\n",
        "# Block 5\n",
        "model.add(Conv2D(512, (3, 3), activation='relu', padding='same'))\n",
        "model.add(Conv2D(512, (3, 3), activation='relu', padding='same'))\n",
        "model.add(Conv2D(512, (3, 3), activation='relu', padding='same'))\n",
        "model.add(MaxPooling2D((2, 2), strides=(2, 2)))\n",
        "\n",
        "# Flatten the output and add fully connected layers\n",
        "model.add(Flatten())\n",
        "model.add(Dense(4096, activation='relu'))\n",
        "model.add(Dense(4096, activation='relu'))\n",
        "model.add(Dense(num_classes, activation='softmax'))"
      ]
    },
    {
      "cell_type": "code",
      "execution_count": null,
      "metadata": {
        "id": "lvEjXvkxCO5j"
      },
      "outputs": [],
      "source": [
        "# Compile the model\n",
        "model.compile(optimizer='adam', loss='categorical_crossentropy', metrics=['accuracy'])"
      ]
    },
    {
      "cell_type": "code",
      "execution_count": null,
      "metadata": {
        "colab": {
          "base_uri": "https://localhost:8080/"
        },
        "id": "9ZP_f_YJCeMc",
        "outputId": "7a3b2762-6a38-461f-c7aa-193d980bd61a"
      },
      "outputs": [
        {
          "output_type": "stream",
          "name": "stdout",
          "text": [
            "Epoch 1/2\n",
            "782/782 [==============================] - 5920s 8s/step - loss: 2.3029 - accuracy: 0.0976 - val_loss: 2.3026 - val_accuracy: 0.1000\n",
            "Epoch 2/2\n",
            "782/782 [==============================] - 5896s 8s/step - loss: 2.3027 - accuracy: 0.0983 - val_loss: 2.3026 - val_accuracy: 0.1000\n"
          ]
        },
        {
          "output_type": "execute_result",
          "data": {
            "text/plain": [
              "<keras.callbacks.History at 0x7fc97813f790>"
            ]
          },
          "metadata": {},
          "execution_count": 10
        }
      ],
      "source": [
        "# Train the model\n",
        "checkpoint_path = \"training_1/cp.ckpt\"\n",
        "checkpoint_dir = os.path.dirname(checkpoint_path)\n",
        "cp_callback = tf.keras.callbacks.ModelCheckpoint(checkpoint_path, save_weights_only=True, verbose=1)\n",
        "model.fit(x_train, y_train, batch_size=64, epochs=2, validation_data=(x_test, y_test))"
      ]
    },
    {
      "cell_type": "code",
      "execution_count": null,
      "metadata": {
        "colab": {
          "base_uri": "https://localhost:8080/"
        },
        "id": "ApCD0IHQm9hM",
        "outputId": "7e41e43f-5907-4215-a971-2c75d78a1f23"
      },
      "outputs": [
        {
          "name": "stdout",
          "output_type": "stream",
          "text": [
            "313/313 [==============================] - 85s 271ms/step - loss: 2.3026 - accuracy: 0.1000\n",
            "Test Loss: 2.3026\n",
            "Test Accuracy: 0.1000\n"
          ]
        }
      ],
      "source": [
        "# Evaluate the model\n",
        "loss, accuracy = model.evaluate(x_test, y_test)\n",
        "print(f'Test Loss: {loss:.4f}')\n",
        "print(f'Test Accuracy: {accuracy:.4f}')"
      ]
    },
    {
      "cell_type": "markdown",
      "metadata": {
        "id": "aEABpqaoudgq"
      },
      "source": [
        "**Explanation:**\n",
        "\n",
        "Five blocks of convolutional and pooling layers are used to construct a VGG model in this code, which is followed by three fully connected layers. The model is then assembled using the categorical cross-entropy loss and Adam optimizer. Finally, it tests the model's performance on the test set after 10 epochs of training on the CIFAR-10 dataset.\n"
      ]
    },
    {
      "cell_type": "markdown",
      "metadata": {
        "id": "To0zQ5nJxBVU"
      },
      "source": [
        "##Question 2##"
      ]
    },
    {
      "cell_type": "markdown",
      "metadata": {
        "id": "giE3JQbt0PfX"
      },
      "source": [
        "Convolutional layers in VGG generate a number of feature maps, and we can select any one of these feature maps to extract features. The feature map from the final convolutional layer before the first fully connected layer should be chosen.\n",
        "\n",
        "Here's an updated code snippet that extracts the chosen feature map from each image in the CIFAR-10 dataset:"
      ]
    },
    {
      "cell_type": "code",
      "execution_count": null,
      "metadata": {
        "id": "4lx2ZTPk1QhD"
      },
      "outputs": [],
      "source": [
        "from tensorflow import keras\n",
        "from tensorflow.keras.datasets import cifar10\n",
        "from tensorflow.keras.models import Sequential\n",
        "from tensorflow.keras.layers import Conv2D, MaxPooling2D, Flatten, Dense\n",
        "from tensorflow.keras import Model\n",
        "import numpy as np"
      ]
    },
    {
      "cell_type": "code",
      "execution_count": null,
      "metadata": {
        "id": "MKFEik8916iV"
      },
      "outputs": [],
      "source": [
        "# Load the CIFAR-10 dataset\n",
        "(x_train, _), (x_test, _) = cifar10.load_data()"
      ]
    },
    {
      "cell_type": "code",
      "execution_count": null,
      "metadata": {
        "id": "TXCXNYUg2FQL"
      },
      "outputs": [],
      "source": [
        "# Normalize pixel values between 0 and 1\n",
        "x_train = x_train.astype('float32') / 255\n",
        "x_test = x_test.astype('float32') / 255"
      ]
    },
    {
      "cell_type": "code",
      "execution_count": null,
      "metadata": {
        "id": "7Q5PHwUE2Tuq"
      },
      "outputs": [],
      "source": [
        "# Build the VGG model\n",
        "base_model = keras.applications.VGG16(weights='imagenet', include_top=False, input_shape=(32, 32, 3))"
      ]
    },
    {
      "cell_type": "code",
      "execution_count": null,
      "metadata": {
        "id": "UnhfSPDC2hBa"
      },
      "outputs": [],
      "source": [
        "# Extract features from the chosen layer\n",
        "feature_extractor = Model(inputs=base_model.input, outputs=base_model.get_layer('block5_conv3').output)"
      ]
    },
    {
      "cell_type": "code",
      "execution_count": null,
      "metadata": {
        "colab": {
          "base_uri": "https://localhost:8080/"
        },
        "id": "W3qKAIoT7PRQ",
        "outputId": "9a930a0f-3944-424c-d192-02d7c6192970"
      },
      "outputs": [
        {
          "name": "stdout",
          "output_type": "stream",
          "text": [
            "1563/1563 [==============================] - 394s 252ms/step\n",
            "313/313 [==============================] - 78s 251ms/step\n"
          ]
        }
      ],
      "source": [
        "# Extract features from each image\n",
        "train_features = feature_extractor.predict(x_train)\n",
        "test_features = feature_extractor.predict(x_test)"
      ]
    },
    {
      "cell_type": "code",
      "execution_count": null,
      "metadata": {
        "id": "s7QP01Gp9Yck"
      },
      "outputs": [],
      "source": [
        "# Reshape features to have a single vector for each image\n",
        "train_features = np.reshape(train_features, (len(x_train), -1))\n",
        "test_features = np.reshape(test_features, (len(x_test), -1))"
      ]
    },
    {
      "cell_type": "code",
      "execution_count": null,
      "metadata": {
        "colab": {
          "base_uri": "https://localhost:8080/"
        },
        "id": "wWUuh55X9dMT",
        "outputId": "b6727f6e-d1a7-49bb-9215-c78a9160bc47"
      },
      "outputs": [
        {
          "name": "stdout",
          "output_type": "stream",
          "text": [
            "Train Features Shape: (50000, 2048)\n",
            "Test Features Shape: (10000, 2048)\n"
          ]
        }
      ],
      "source": [
        "# Print the shape of the extracted features\n",
        "print(f'Train Features Shape: {train_features.shape}')\n",
        "print(f'Test Features Shape: {test_features.shape}')"
      ]
    },
    {
      "cell_type": "markdown",
      "metadata": {
        "id": "kAiRmKJi9qmX"
      },
      "source": [
        "**Explanation:**\n",
        "\n",
        "The VGG16 model from the keras.applications module, which is pre-trained on the ImageNet dataset, is used in this code. We simply want to extract features, therefore we set include_top=False to omit the VGG's fully connected layers. The layer 'block5_conv3', the final convolutional layer before the fully linked layers, was selected for feature extraction."
      ]
    },
    {
      "cell_type": "markdown",
      "metadata": {
        "id": "YnAex2AK-wd6"
      },
      "source": [
        "##Question 3##"
      ]
    },
    {
      "cell_type": "markdown",
      "metadata": {
        "id": "rphq3q7n-5wz"
      },
      "source": [
        "**Here's an updated code snippet that includes the t-SNE visualization:**"
      ]
    },
    {
      "cell_type": "code",
      "execution_count": null,
      "metadata": {
        "id": "VpqLqwXI--wA"
      },
      "outputs": [],
      "source": [
        "from tensorflow import keras\n",
        "from tensorflow.keras.datasets import cifar10\n",
        "from tensorflow.keras.models import Sequential\n",
        "from tensorflow.keras.layers import Conv2D, MaxPooling2D, Flatten, Dense\n",
        "from tensorflow.keras import Model\n",
        "import numpy as np\n",
        "import matplotlib.pyplot as plt\n",
        "from sklearn.manifold import TSNE"
      ]
    },
    {
      "cell_type": "code",
      "execution_count": null,
      "metadata": {
        "id": "74FnalMR_pq0"
      },
      "outputs": [],
      "source": [
        "# Load the CIFAR-10 dataset\n",
        "(x_train, _), (x_test, _) = cifar10.load_data()"
      ]
    },
    {
      "cell_type": "code",
      "execution_count": null,
      "metadata": {
        "id": "oMbc0RqA_x4Y"
      },
      "outputs": [],
      "source": [
        "# Normalize pixel values between 0 and 1\n",
        "x_train = x_train.astype('float32') / 255\n",
        "x_test = x_test.astype('float32') / 255"
      ]
    },
    {
      "cell_type": "code",
      "execution_count": null,
      "metadata": {
        "colab": {
          "base_uri": "https://localhost:8080/"
        },
        "id": "J4avRk67_6Cg",
        "outputId": "b0b906e3-b9ed-41ff-fa47-38e1746de24e"
      },
      "outputs": [
        {
          "output_type": "stream",
          "name": "stdout",
          "text": [
            "Downloading data from https://storage.googleapis.com/tensorflow/keras-applications/vgg16/vgg16_weights_tf_dim_ordering_tf_kernels_notop.h5\n",
            "58889256/58889256 [==============================] - 1s 0us/step\n"
          ]
        }
      ],
      "source": [
        "# Build the VGG model\n",
        "base_model = keras.applications.VGG16(weights='imagenet', include_top=False, input_shape=(32, 32, 3))"
      ]
    },
    {
      "cell_type": "code",
      "execution_count": null,
      "metadata": {
        "id": "jSzUUHDy_8sQ"
      },
      "outputs": [],
      "source": [
        "# Extract features from the chosen layer\n",
        "feature_extractor = Model(inputs=base_model.input, outputs=base_model.get_layer('block5_conv3').output)"
      ]
    },
    {
      "cell_type": "code",
      "execution_count": null,
      "metadata": {
        "colab": {
          "base_uri": "https://localhost:8080/"
        },
        "id": "ZoVPjjWSADjY",
        "outputId": "cac7c175-ab56-4837-a76f-50a5c5b7fd31"
      },
      "outputs": [
        {
          "output_type": "stream",
          "name": "stdout",
          "text": [
            "1563/1563 [==============================] - 640s 409ms/step\n",
            "313/313 [==============================] - 126s 402ms/step\n"
          ]
        }
      ],
      "source": [
        "# Extract features from each image\n",
        "train_features = feature_extractor.predict(x_train)\n",
        "test_features = feature_extractor.predict(x_test)"
      ]
    },
    {
      "cell_type": "code",
      "execution_count": null,
      "metadata": {
        "id": "XPB0wk57CyIM"
      },
      "outputs": [],
      "source": [
        "# Reshape features to have a single vector for each image\n",
        "train_features = np.reshape(train_features, (len(x_train), -1))\n",
        "test_features = np.reshape(test_features, (len(x_test), -1))"
      ]
    },
    {
      "cell_type": "code",
      "execution_count": null,
      "metadata": {
        "id": "9AduzktXC826"
      },
      "outputs": [],
      "source": [
        "# Concatenate train and test features\n",
        "all_features = np.concatenate((train_features, test_features), axis=0)"
      ]
    },
    {
      "cell_type": "code",
      "execution_count": null,
      "metadata": {
        "id": "fB9Ds_s-DBpK"
      },
      "outputs": [],
      "source": [
        "# Perform t-SNE dimensionality reduction\n",
        "tsne = TSNE(n_components=2, random_state=42)\n",
        "tsne_features = tsne.fit_transform(all_features)"
      ]
    },
    {
      "cell_type": "code",
      "source": [
        "# Separate train and test features\n",
        "train_tsne = tsne_features[:len(x_train)]\n",
        "test_tsne = tsne_features[len(x_train):]"
      ],
      "metadata": {
        "id": "D6GI_bdtJh09"
      },
      "execution_count": null,
      "outputs": []
    },
    {
      "cell_type": "code",
      "source": [
        "# Plot the t-SNE visualization\n",
        "plt.figure(figsize=(8, 6))\n",
        "plt.scatter(train_tsne[:, 0], train_tsne[:, 1], c='b', label='Train')\n",
        "plt.scatter(test_tsne[:, 0], test_tsne[:, 1], c='r', label='Test')\n",
        "plt.title('t-SNE Visualization of Extracted Features')\n",
        "plt.legend()\n",
        "plt.show()"
      ],
      "metadata": {
        "colab": {
          "base_uri": "https://localhost:8080/",
          "height": 545
        },
        "id": "P3bXuisg9LpZ",
        "outputId": "a345b6e1-133c-494f-9a33-46ddc38a3759"
      },
      "execution_count": null,
      "outputs": [
        {
          "output_type": "display_data",
          "data": {
            "text/plain": [
              "<Figure size 800x600 with 1 Axes>"
            ],
            "image/png": "[encoded data removed]"
          },
          "metadata": {}
        }
      ]
    },
    {
      "cell_type": "markdown",
      "source": [
        "**Explanation:**\n",
        "\n",
        "The features from the training and test sets are combined into an array named all_features in this revised code. I then use the TSNE class from scikit-learn to do t-SNE dimensionality reduction. In order to generate a two-dimensional representation of the features, I set n_components=2 in this example.\n",
        "\n",
        "The training and test sets are then divided again into the t-SNE-transformed features and saved in the corresponding train_tsne and test_tsne folders.\n",
        "Finally, we use plt.scatter() to create the t-SNE visualization, where the training set features are represented by blue dots and the test set features by red dots.\n"
      ],
      "metadata": {
        "id": "BcWCL3d-MgUv"
      }
    },
    {
      "cell_type": "markdown",
      "source": [
        "##Question 4##"
      ],
      "metadata": {
        "id": "tx2tqGucY6CN"
      }
    },
    {
      "cell_type": "markdown",
      "source": [
        "We can compute the mean and variance within each class and between various classes in the CIFAR-10 dataset in order to quantify the intra-class and inter-class variations of the selected feature. This will help us determine how similar or unlike the feature values are between classes that are members of the same class."
      ],
      "metadata": {
        "id": "RwExSmlyY_6z"
      }
    },
    {
      "cell_type": "code",
      "source": [
        "import numpy as np"
      ],
      "metadata": {
        "id": "aYAaoVnAZJB1"
      },
      "execution_count": null,
      "outputs": []
    },
    {
      "cell_type": "code",
      "source": [
        "# Load the CIFAR-10 dataset\n",
        "(_, y_train), (_, y_test) = cifar10.load_data()"
      ],
      "metadata": {
        "id": "QS_GN-iZdhp5"
      },
      "execution_count": null,
      "outputs": []
    },
    {
      "cell_type": "code",
      "source": [
        "# Calculate mean feature values for each class\n",
        "class_means = []\n",
        "for class_label in range(10):\n",
        "    class_indices = np.where(y_train == class_label)[0]\n",
        "    class_features = train_features[class_indices]\n",
        "    class_mean = np.mean(class_features, axis=0)\n",
        "    class_means.append(class_mean)"
      ],
      "metadata": {
        "id": "fPJEGN6ddosK"
      },
      "execution_count": null,
      "outputs": []
    },
    {
      "cell_type": "code",
      "source": [
        "class_means = np.array(class_means)"
      ],
      "metadata": {
        "id": "EjgngUTPd51k"
      },
      "execution_count": null,
      "outputs": []
    },
    {
      "cell_type": "code",
      "source": [
        "# Calculate intra-class variance\n",
        "intra_class_variance = np.mean(np.var(class_means, axis=0))"
      ],
      "metadata": {
        "id": "e4yZImFKeB0P"
      },
      "execution_count": null,
      "outputs": []
    },
    {
      "cell_type": "code",
      "source": [
        "# Calculate inter-class variance\n",
        "overall_mean = np.mean(class_means, axis=0)\n",
        "inter_class_variance = np.mean(np.var(class_means - overall_mean, axis=0))"
      ],
      "metadata": {
        "id": "RO_ZpHSueK6y"
      },
      "execution_count": null,
      "outputs": []
    },
    {
      "cell_type": "code",
      "source": [
        "# Print the results\n",
        "print(f\"Intra-class variance: {intra_class_variance:.4f}\")\n",
        "print(f\"Inter-class variance: {inter_class_variance:.4f}\")"
      ],
      "metadata": {
        "colab": {
          "base_uri": "https://localhost:8080/"
        },
        "id": "AX9Cdz0-ePaj",
        "outputId": "0ff451f6-3540-42bb-95dd-aad25c349947"
      },
      "execution_count": null,
      "outputs": [
        {
          "output_type": "stream",
          "name": "stdout",
          "text": [
            "Intra-class variance: 0.0029\n",
            "Inter-class variance: 0.0029\n"
          ]
        }
      ]
    },
    {
      "cell_type": "markdown",
      "source": [
        "**Explanation:**\n",
        "\n",
        "Using the CIFAR-10 training set labels (y_train), we iteratively calculate the mean feature values for each class in this modified code. The mean along the first axis (representing the instances inside that class) is computed for each class using the appropriate feature values obtained from train_features.\n",
        "Then, by averaging the variances of the class averages across the feature dimensions, we can determine the intra-class variation.\n",
        "The next step is to average the class means across all classes to determine the overall mean. The mean of the variances between the class means and the overall mean across the feature dimensions is then used to calculate the inter-class variance.\n",
        "The calculated intra-class and inter-class variances are printed by the code as a final step."
      ],
      "metadata": {
        "id": "Hyr2wQNQehQ7"
      }
    },
    {
      "cell_type": "markdown",
      "source": [
        "##Question 5##"
      ],
      "metadata": {
        "id": "AUGkXSwrgSpW"
      }
    },
    {
      "cell_type": "markdown",
      "source": [
        "**Quantifying Intra-class and Inter-class Variances of Extracted Features**\n",
        "\n",
        "In this experiment, I used a selected feature map from the VGG model to measure the intra-class and inter-class variances of the features recovered from the CIFAR-10 dataset. A total of 60,000 32x32 color photos from ten different classes—aircraft, cars, birds, cats, deer, dogs, frogs, horses, ships, and trucks—make up the CIFAR-10 collection.\n",
        "\n",
        "\n",
        "The VGG16 architecture, a traditional convolutional neural network model renowned for its efficiency in image classification tasks, was used as our starting point. For feature extraction, I carefully chose the feature map from the final convolutional layer before to the first fully connected layer. This layer, \"block5_conv3,\" gives the input images a detailed representation.\n",
        "\n",
        "\n",
        "I loaded the CIFAR-10 dataset and normalized the pixel values to a range between 0 and 1 before putting the feature extraction procedure into action. The pre-trained VGG16 model using the ImageNet dataset was used as the basis model. By providing the input and output layers for a new model called \"feature_extractor,\" I was able to extract the desired feature map.\n",
        "\n",
        "\n",
        "After obtaining the feature maps for all images in the dataset, I reshaped them into a single vector for each image. The resulting feature vectors were concatenated for both the training and test sets, forming a comprehensive feature matrix, \"all_features.\"\n",
        "\n",
        "\n",
        "I used the dimensionality reduction technique t-SNE (t-Distributed Stochastic Neighbor Embedding) to display the derived features and acquire understanding of their separability. The tools required for t-SNE were made available by the scikit-learn library, allowing us to project the high-dimensional feature vectors into a two-dimensional space.\n",
        "\n",
        "\n",
        "I also looked into the intra-class and inter-class variances after obtaining the t-SNE-transformed feature representations. By repeatedly going over the labels in the CIFAR-10 training set, I determined the mean feature values for each class. The relevant feature vectors for each class were gathered, and the mean along the feature dimensions was calculated.\n",
        "\n",
        "\n",
        "I found the average of the variances of the class averages across the feature dimensions to calculate the intra-class variance. This metric illustrates how similarly each class's feature values are to one another. Higher similarity is indicated by lower intra-class variance.\n",
        "\n",
        "\n",
        "In a similar manner, the inter-class variance was calculated to assess how differently feature values varied between classes. I began by averaging the class averages across all classes to determine the overall mean. The mean of the variations between the class means and the overall mean across the feature dimensions was then computed to determine the inter-class variance. Greater dissimilarity is indicated by higher interclass variance.\n",
        "\n",
        "\n",
        "No significant problems were discovered during the experiment. The FashionMNIST dataset, which was once seen as a substitute, only includes grayscale photos with a single channel, therefore it is crucial to keep this in mind. Then, to match the three channels needed by the VGG model for color images, we may have repeated the single channel. This would have given us the opportunity to proceed with the analysis and modify the code accordingly\n",
        "\n",
        "\n",
        "\n",
        "**Conclusion:**\n",
        "I was able to measure the intra-class and inter-class variances of the features by extracting them from the CIFAR-10 dataset using the VGG16 model and displaying them with t-SNE. These metrics show the discriminative power of the collected features by offering insights into similarity within classes and dissimilarity between classes."
      ],
      "metadata": {
        "id": "rhKopfnMgyxX"
      }
    }
  ],
  "metadata": {
    "colab": {
      "provenance": []
    },
    "kernelspec": {
      "display_name": "Python 3",
      "name": "python3"
    },
    "language_info": {
      "name": "python"
    }
  },
  "nbformat": 4,
  "nbformat_minor": 0
}